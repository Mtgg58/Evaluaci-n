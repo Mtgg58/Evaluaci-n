{
 "cells": [
  {
   "cell_type": "markdown",
   "id": "cf105f30",
   "metadata": {},
   "source": [
    "<img src=\"logo.png\" alt=\"Logo Institución\" width=\"200\" style=\"display: block; margin-right: 100%;\">\n",
    "\n",
    "# Prueba Práctica - Unidad III Estructuras de Control Selectivas\n",
    "\n",
    "#### **Instrucciones Generales**\n",
    "- **Tiempo asignado**: 60-90 minutos\n",
    "- **Modalidad**: Individual\n",
    "- **Lenguaje**: Python 3.x\n",
    "- **Requisitos**: Resolver usando programación estructurada con estructuras de control condicionales"
   ]
  },
  {
   "cell_type": "markdown",
   "id": "39f8612f",
   "metadata": {},
   "source": [
    "##### Para cada ejercicio:\n",
    "1. Lea atentamente la descripción del problema.\n",
    "2. Implemente la solución solicitada.\n",
    "3. Use entradas por consola (input) para obtener los datos.\n",
    "4. Muestre los resultados con formato claro.\n",
    "5. Use nombres de variables descriptivos y comentarios cuando sea necesario.\n",
    "6. No olvides incluir comentarios en tu código para explicar tu razonamiento."
   ]
  },
  {
   "cell_type": "markdown",
   "id": "eedbfe44",
   "metadata": {},
   "source": [
    "# 🛤️ Ejercicio 1: Control de Tren (Valor - 6 pts)\n",
    "\n",
    "### Descripción\n",
    "Simula el sistema de control de un tren que debe responder a señales en la vía.  \n",
    "Las señales pueden ser **\"verde\"**, **\"amarillo\"** o **\"rojo\"**.  \n",
    "El tren debe ajustar su velocidad base según la señal actual y la distancia hasta la próxima estación:\n",
    "\n",
    "- **Señal verde**:  \n",
    "  - Acelera a **100 km/h** si la distancia es mayor a 5 km.  \n",
    "  - Mantiene **80 km/h** en caso contrario.  \n",
    "\n",
    "- **Señal amarilla**:  \n",
    "  - Reduce la velocidad a **50 km/h** si la distancia es mayor a 3 km.  \n",
    "  - De lo contrario, reduce a **30 km/h**.  \n",
    "\n",
    "- **Señal roja**:  \n",
    "  - Frena hasta **0 km/h** inmediatamente.  \n",
    "\n",
    "- **Obstáculo en la vía**:  \n",
    "  - El tren debe frenar a **0 km/h**, independientemente de la señal.  \n",
    "\n",
    "---\n",
    "\n",
    "### ✅ Salida esperada\n",
    "El programa debe devolver la velocidad actual del tren en base a las condiciones dadas.  \n",
    "\n",
    "**Ejemplo:**\n",
    "- Entrada: `señal=\"amarillo\", distancia=4, obstáculo=False`  \n",
    "- Salida: `Velocidad: 50 km/h`"
   ]
  },
  {
   "cell_type": "code",
   "execution_count": null,
   "id": "5b996202",
   "metadata": {},
   "outputs": [],
   "source": [
    "# Aquí se realiza el ejercicio 1\n",
    "# Pedimos los datos al usuario\n",
    "senal = input(\"Ingrese la senal (verde, amarillo, rojo): \").lower()\n",
    "distancia = float(input(\"Distancia en km: \"))\n",
    "obstaculo = input(\"Hay obstáculo? (sí/no): \").lower()\n",
    "\n",
    "# convertimos la respuesta del obstáculo a valor booleano\n",
    "hay_obstaculo = obstaculo == \"sí\"\n",
    "\n",
    "# determinamos la velocidad del tren\n",
    "if hay_obstaculo:\n",
    "    velocidad = 0  # Si hay obstáculo, el tren debe detenerse\n",
    "elif senal == \"verde\":\n",
    "    if distancia > 5:\n",
    "        velocidad = 100\n",
    "    else:\n",
    "        velocidad = 80\n",
    "elif senal == \"amarillo\":\n",
    "    if distancia > 3:\n",
    "        velocidad = 50\n",
    "    else:\n",
    "        velocidad = 30\n",
    "elif senal == \"rojo\":\n",
    "    velocidad = 0  # senal roja siempre obliga a detenerse\n",
    "else:\n",
    "    velocidad = -1  # senal no válida\n",
    "\n",
    "# mostramos el resultado\n",
    "if velocidad >= 0:\n",
    "    print(f\"Velocidad: {velocidad} km/h\")\n",
    "else:\n",
    "    print(\"Señal no valida\")"
   ]
  },
  {
   "cell_type": "markdown",
   "id": "d7e9e698",
   "metadata": {},
   "source": [
    "# ☢️ Ejercicio 2: Mitigación de Fusión Nuclear (Valor - 7 pts)\n",
    "\n",
    "### Descripción\n",
    "Eres responsable de monitorear un **reactor nuclear**.  \n",
    "Debes determinar el estado del reactor en base a la **temperatura**, la **presión** y el **nivel de refrigerante**.\n",
    "\n",
    "Las reglas son:\n",
    "\n",
    "- Si la **temperatura > 800 °C** y la **presión > 500 bar**, el estado es **\"CRÍTICO\"**.  \n",
    "- Si la **temperatura está entre 600 °C y 800 °C** o la **presión entre 300 bar y 500 bar**, el estado es **\"ALERTA\"**.  \n",
    "- Si el **nivel de refrigerante < 50%**, el estado se degrada un nivel (ejemplo: de \"NORMAL\" a \"ALERTA\").  \n",
    "- En cualquier otro caso, el estado es **\"NORMAL\"**.  \n",
    "\n",
    "---\n",
    "\n",
    "### ✅ Salida esperada\n",
    "El programa debe imprimir el estado del reactor.  \n",
    "\n",
    "**Ejemplo:**\n",
    "- Entrada: `temperatura=750, presión=400, refrigerante=45`  \n",
    "- Salida: `Estado: ALERTA`  \n",
    "  *(porque el refrigerante baja el estado, pero ya estaba en alerta por temperatura y presión)*  "
   ]
  },
  {
   "cell_type": "code",
   "execution_count": null,
   "id": "06e4c210",
   "metadata": {},
   "outputs": [],
   "source": [
    "# Aquí se realiza el ejercicio 2\n",
    "#verificamos los datos, temperatura, presion, refrigerante\n",
    "\n",
    "#solicitamos los datos\n",
    "temperatura = int(input(\"ingrese la temperatura\"))\n",
    "presion = int(float(input(\"ingrese la presion:\")))\n",
    "refrigerante = int(float(input(\"ingrese el porcentaje de refrigerante:\")))\n",
    "\n",
    "#verificar estado critivo\n",
    "if temperatura > 800 and presion > 500:\n",
    "    print(\"estado critico\")\n",
    "\n",
    "#verifica estado alerta\n",
    "elif (temperatura >= 600 and temperatura <= 800) or (presion >= 300 and presion <= 500):\n",
    "    print(\"estado alerta\")\n",
    "    \n",
    "#verifica degradacionn de refrigerante\n",
    "elif refrigerante < 50:\n",
    "    print(\"se degrada el refrigerante\")"
   ]
  },
  {
   "cell_type": "markdown",
   "id": "83d5d46c",
   "metadata": {},
   "source": [
    "# 💰 Ejercicio 3: Cálculo de Impuestos (Valor - 7 pts)\n",
    "\n",
    "### Descripción\n",
    "Calcula el **impuesto sobre la renta** en base al **ingreso anual**, la **edad** y el **número de dependientes**.  \n",
    "\n",
    "Las reglas son:\n",
    "\n",
    "- Ingresos **≤ $10,000**: no pagan impuestos.  \n",
    "- Ingresos **entre $10,001 y $50,000**: pagan **10% sobre el exceso** de $10,000.  \n",
    "- Ingresos **> $50,000**: pagan **20% sobre el exceso de $50,000** más **$4,000**.  \n",
    "- Mayores de **65 años**: reducción del **5% en el impuesto total**.  \n",
    "- Por cada **dependiente**, se reduce **$1,000 del ingreso gravable** antes de calcular el impuesto.  \n",
    "\n",
    "---\n",
    "\n",
    "### ✅ Salida esperada\n",
    "El programa debe calcular y mostrar el impuesto a pagar.  \n",
    "\n",
    "**Ejemplo:**\n",
    "- Entrada: `ingreso=60000, edad=70, dependientes=2`  \n",
    "- Salida: `Impuesto: 5320`  \n",
    "\n",
    "📌 *Explicación:*  \n",
    "- Ingreso gravable = 60000 - (1000 × 2) = **58000**  \n",
    "- Impuesto base = 4000 + 20% de (58000 - 50000) = **5600**  \n",
    "- Descuento por edad = 5% de 5600 = **280**  \n",
    "- Impuesto final = 5600 - 280 = **5320**"
   ]
  },
  {
   "cell_type": "code",
   "execution_count": null,
   "id": "6e1014c6",
   "metadata": {},
   "outputs": [],
   "source": [
    "# Aquí se resuelve el ejercicio 3"
   ]
  },
  {
   "cell_type": "markdown",
   "id": "b0529d22",
   "metadata": {},
   "source": [
    "### **¡Éxito en la evaluación!**"
   ]
  }
 ],
 "metadata": {
  "language_info": {
   "name": "python"
  }
 },
 "nbformat": 4,
 "nbformat_minor": 5
}
